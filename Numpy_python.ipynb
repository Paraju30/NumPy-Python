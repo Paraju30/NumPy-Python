{
 "cells": [
  {
   "cell_type": "markdown",
   "id": "ba589c93",
   "metadata": {},
   "source": [
    "Numerical Python"
   ]
  },
  {
   "cell_type": "code",
   "execution_count": 4,
   "id": "3de8d915",
   "metadata": {},
   "outputs": [],
   "source": [
    "import numpy as np\n"
   ]
  },
  {
   "cell_type": "code",
   "execution_count": 6,
   "id": "1b4187d9",
   "metadata": {},
   "outputs": [
    {
     "data": {
      "text/plain": [
       "'1.21.5'"
      ]
     },
     "execution_count": 6,
     "metadata": {},
     "output_type": "execute_result"
    }
   ],
   "source": [
    "np.__version__\n"
   ]
  },
  {
   "cell_type": "markdown",
   "id": "89d11803",
   "metadata": {},
   "source": [
    "***All functions in numpy***"
   ]
  },
  {
   "cell_type": "code",
   "execution_count": 7,
   "id": "58a71c08",
   "metadata": {},
   "outputs": [
    {
     "data": {
      "text/plain": [
       "array([1, 4, 2, 5, 3])"
      ]
     },
     "execution_count": 7,
     "metadata": {},
     "output_type": "execute_result"
    }
   ],
   "source": [
    "# integer array:\n",
    "a=np.array([1, 4, 2, 5, 3])\n",
    "a"
   ]
  },
  {
   "cell_type": "code",
   "execution_count": 10,
   "id": "fa6367b6",
   "metadata": {},
   "outputs": [
    {
     "data": {
      "text/plain": [
       "numpy.ndarray"
      ]
     },
     "execution_count": 10,
     "metadata": {},
     "output_type": "execute_result"
    }
   ],
   "source": [
    "type(a)"
   ]
  },
  {
   "cell_type": "code",
   "execution_count": 11,
   "id": "d6660d40",
   "metadata": {},
   "outputs": [
    {
     "data": {
      "text/plain": [
       "array([3.14, 4.  , 2.  , 3.  ])"
      ]
     },
     "execution_count": 11,
     "metadata": {},
     "output_type": "execute_result"
    }
   ],
   "source": [
    "np.array([3.14, 4, 2, 3])\n"
   ]
  },
  {
   "cell_type": "code",
   "execution_count": 13,
   "id": "7f28482e",
   "metadata": {},
   "outputs": [],
   "source": [
    "x=np.array([1, 2, 3, 4], dtype='float32') #If we want to explicitly set the data type of the resulting array."
   ]
  },
  {
   "cell_type": "code",
   "execution_count": 14,
   "id": "a876f4ba",
   "metadata": {},
   "outputs": [
    {
     "name": "stdout",
     "output_type": "stream",
     "text": [
      "[1. 2. 3. 4.]\n"
     ]
    }
   ],
   "source": [
    "print(x)"
   ]
  },
  {
   "cell_type": "code",
   "execution_count": 15,
   "id": "829d5210",
   "metadata": {},
   "outputs": [
    {
     "data": {
      "text/plain": [
       "array([[1, 2, 3],\n",
       "       [4, 5, 6],\n",
       "       [7, 8, 9]])"
      ]
     },
     "execution_count": 15,
     "metadata": {},
     "output_type": "execute_result"
    }
   ],
   "source": [
    "# nested lists multidimensional arrays\n",
    "np.array([[1,2,3],\n",
    "[4,5,6],\n",
    "[7,8,9]])\n"
   ]
  },
  {
   "cell_type": "code",
   "execution_count": 16,
   "id": "ebb89b6f",
   "metadata": {},
   "outputs": [
    {
     "data": {
      "text/plain": [
       "array([[10, 40,  7],\n",
       "       [ 1,  2,  9]])"
      ]
     },
     "execution_count": 16,
     "metadata": {},
     "output_type": "execute_result"
    }
   ],
   "source": [
    "np.array([[10,40,7],[1,2,9]])"
   ]
  },
  {
   "cell_type": "code",
   "execution_count": 17,
   "id": "8803c9ba",
   "metadata": {},
   "outputs": [
    {
     "name": "stdout",
     "output_type": "stream",
     "text": [
      "[[[ 1  2  3]\n",
      "  [ 4  5  6]\n",
      "  [ 7  8  9]]\n",
      "\n",
      " [[10 20 30]\n",
      "  [40 50 60]\n",
      "  [70 80 90]]]\n"
     ]
    }
   ],
   "source": [
    "x=np.array([\n",
    "[[1,2,3],\n",
    "[4,5,6],\n",
    "[7,8,9]],\n",
    "[[10,20,30],\n",
    "[40,50,60],\n",
    "[70,80,90]]\n",
    "])\n",
    "print(x)"
   ]
  },
  {
   "cell_type": "code",
   "execution_count": 18,
   "id": "7f1c1ab7",
   "metadata": {},
   "outputs": [
    {
     "name": "stdout",
     "output_type": "stream",
     "text": [
      "[[[10 12]\n",
      "  [14 18]]\n",
      "\n",
      " [[12 14]\n",
      "  [16 18]]]\n"
     ]
    }
   ],
   "source": [
    "xy=np.array([[[10,12],[14,18]],[[12,14],[16,18]]])\n",
    "print(xy)"
   ]
  },
  {
   "cell_type": "code",
   "execution_count": 19,
   "id": "57288896",
   "metadata": {},
   "outputs": [
    {
     "name": "stdout",
     "output_type": "stream",
     "text": [
      "[0 0 0 0 0 0 0 0 0 0]\n",
      "[[0 0 0 0]\n",
      " [0 0 0 0]]\n",
      "[[[0 0 0 0 0]\n",
      "  [0 0 0 0 0]\n",
      "  [0 0 0 0 0]\n",
      "  [0 0 0 0 0]]\n",
      "\n",
      " [[0 0 0 0 0]\n",
      "  [0 0 0 0 0]\n",
      "  [0 0 0 0 0]\n",
      "  [0 0 0 0 0]]]\n"
     ]
    }
   ],
   "source": [
    "# Create a length-10 integer array filled with zeros\n",
    "print(np.zeros(10, dtype=int))\n",
    "print(np.zeros((2,4), dtype=int))\n",
    "print(np.zeros((2,4,5), dtype=int))"
   ]
  },
  {
   "cell_type": "code",
   "execution_count": 20,
   "id": "a64fd30c",
   "metadata": {},
   "outputs": [
    {
     "name": "stdout",
     "output_type": "stream",
     "text": [
      "[1. 1. 1. 1.]\n",
      "[1 1 1 1]\n",
      "[[1.]\n",
      " [1.]\n",
      " [1.]]\n",
      "[[[1. 1. 1. 1.]\n",
      "  [1. 1. 1. 1.]]\n",
      "\n",
      " [[1. 1. 1. 1.]\n",
      "  [1. 1. 1. 1.]]\n",
      "\n",
      " [[1. 1. 1. 1.]\n",
      "  [1. 1. 1. 1.]]]\n"
     ]
    }
   ],
   "source": [
    "# Create a 3x1 floating-point array filled with 1s\n",
    "a=np.ones(4)\n",
    "print(a)\n",
    "a=np.ones(4,dtype=int)\n",
    "print(a)\n",
    "a=np.ones((3, 1), dtype=float)\n",
    "print(a)\n",
    "a1=np.ones((3,2,4))\n",
    "print(a1)\n",
    "b=np.full((3, 2), 99)\n"
   ]
  },
  {
   "cell_type": "code",
   "execution_count": 21,
   "id": "54bae034",
   "metadata": {},
   "outputs": [
    {
     "name": "stdout",
     "output_type": "stream",
     "text": [
      "[[99 99]\n",
      " [99 99]\n",
      " [99 99]]\n"
     ]
    }
   ],
   "source": [
    "print(b)"
   ]
  },
  {
   "cell_type": "code",
   "execution_count": 22,
   "id": "bda7bafe",
   "metadata": {},
   "outputs": [
    {
     "data": {
      "text/plain": [
       "[0, 2, 4, 6, 8]"
      ]
     },
     "execution_count": 22,
     "metadata": {},
     "output_type": "execute_result"
    }
   ],
   "source": [
    "list(range(0,10,2))"
   ]
  },
  {
   "cell_type": "code",
   "execution_count": 23,
   "id": "ebd2e61f",
   "metadata": {},
   "outputs": [
    {
     "data": {
      "text/plain": [
       "array([0. , 0.2, 0.4, 0.6, 0.8])"
      ]
     },
     "execution_count": 23,
     "metadata": {},
     "output_type": "execute_result"
    }
   ],
   "source": [
    "# Create an array filled with a linear sequence\n",
    "# Starting at 0, ending at 1, stepping by 0.1\n",
    "# (this is similar to the built-in range() function)\n",
    "np.arange(0, 1, 0.2) # simillar to seq command in R"
   ]
  },
  {
   "cell_type": "code",
   "execution_count": 24,
   "id": "f692174f",
   "metadata": {},
   "outputs": [
    {
     "name": "stdout",
     "output_type": "stream",
     "text": [
      "[0.   0.25 0.5  0.75 1.  ]\n",
      "[  1.   2.   3.   4.   5.   6.   7.   8.   9.  10.  11.  12.  13.  14.\n",
      "  15.  16.  17.  18.  19.  20.  21.  22.  23.  24.  25.  26.  27.  28.\n",
      "  29.  30.  31.  32.  33.  34.  35.  36.  37.  38.  39.  40.  41.  42.\n",
      "  43.  44.  45.  46.  47.  48.  49.  50.  51.  52.  53.  54.  55.  56.\n",
      "  57.  58.  59.  60.  61.  62.  63.  64.  65.  66.  67.  68.  69.  70.\n",
      "  71.  72.  73.  74.  75.  76.  77.  78.  79.  80.  81.  82.  83.  84.\n",
      "  85.  86.  87.  88.  89.  90.  91.  92.  93.  94.  95.  96.  97.  98.\n",
      "  99. 100.]\n"
     ]
    }
   ],
   "source": [
    "# Create an array of five values evenly spaced between 0 and 1\n",
    "print(np.linspace(0, 1, 5))\n",
    "print(np.linspace(1,100,100))"
   ]
  },
  {
   "cell_type": "markdown",
   "id": "1a6b7cf8",
   "metadata": {},
   "source": [
    "***Simple random data***"
   ]
  },
  {
   "cell_type": "code",
   "execution_count": 25,
   "id": "f17663e5",
   "metadata": {},
   "outputs": [
    {
     "data": {
      "text/plain": [
       "array([0.00968401, 0.53081131, 0.61727536, 0.46116223, 0.91479628,\n",
       "       0.2365447 , 0.51226272, 0.2990334 , 0.63968543, 0.10288569])"
      ]
     },
     "execution_count": 25,
     "metadata": {},
     "output_type": "execute_result"
    }
   ],
   "source": [
    "# np.random.rand(d0, d1, ..., dn)\n",
    "np.random.rand(10)"
   ]
  },
  {
   "cell_type": "code",
   "execution_count": 26,
   "id": "015ed46f",
   "metadata": {},
   "outputs": [
    {
     "data": {
      "text/plain": [
       "array([[0.23591316, 0.0953    ],\n",
       "       [0.57216517, 0.61396765],\n",
       "       [0.64057267, 0.02553178],\n",
       "       [0.85116115, 0.96271541],\n",
       "       [0.0782152 , 0.66621567],\n",
       "       [0.73615038, 0.11506581],\n",
       "       [0.44278019, 0.92002886],\n",
       "       [0.91190742, 0.60680613],\n",
       "       [0.01142561, 0.00469675],\n",
       "       [0.89046238, 0.70224269]])"
      ]
     },
     "execution_count": 26,
     "metadata": {},
     "output_type": "execute_result"
    }
   ],
   "source": [
    "np.random.rand(10,2)\n"
   ]
  },
  {
   "cell_type": "code",
   "execution_count": 27,
   "id": "7239bf45",
   "metadata": {},
   "outputs": [
    {
     "data": {
      "text/plain": [
       "array([-0.43844236, -0.31786708, -0.51192107,  0.41770261,  0.67845281,\n",
       "        1.56714716,  0.11186518, -0.40780106,  0.10304792, -0.40210365])"
      ]
     },
     "execution_count": 27,
     "metadata": {},
     "output_type": "execute_result"
    }
   ],
   "source": [
    "# np.random.randn(d0, d1, ..., dn)\n",
    "np.random.randn(10)"
   ]
  },
  {
   "cell_type": "code",
   "execution_count": 28,
   "id": "dddd7adf",
   "metadata": {},
   "outputs": [
    {
     "data": {
      "text/plain": [
       "array([[[-0.02917445,  1.01916461],\n",
       "        [ 1.58639547, -1.76606305],\n",
       "        [ 0.07441196, -0.48824039],\n",
       "        [-1.96351335,  0.73359329]],\n",
       "\n",
       "       [[-0.86680429, -0.0986438 ],\n",
       "        [-1.82797555,  1.54160134],\n",
       "        [ 2.13580748, -0.80133858],\n",
       "        [-1.39693571,  0.16518394]],\n",
       "\n",
       "       [[ 0.25378154, -0.96598132],\n",
       "        [ 0.52338502, -0.3113314 ],\n",
       "        [ 0.7210964 , -0.45751348],\n",
       "        [ 1.54331191,  0.67603259]]])"
      ]
     },
     "execution_count": 28,
     "metadata": {},
     "output_type": "execute_result"
    }
   ],
   "source": [
    "np.random.randn(3,4,2)\n"
   ]
  },
  {
   "cell_type": "code",
   "execution_count": 30,
   "id": "1e3d3649",
   "metadata": {},
   "outputs": [
    {
     "data": {
      "text/plain": [
       "0"
      ]
     },
     "execution_count": 30,
     "metadata": {},
     "output_type": "execute_result"
    }
   ],
   "source": [
    "# np.random.randint(low[, high, size, dtype])\n",
    "# This function of random module is used to generate random integers from inclusive(low) to exclusive(high).\n",
    "np.random.randint(2)"
   ]
  },
  {
   "cell_type": "code",
   "execution_count": 31,
   "id": "dcc35ffe",
   "metadata": {},
   "outputs": [
    {
     "data": {
      "text/plain": [
       "array([[19, 14],\n",
       "       [11, 19],\n",
       "       [15, 11]])"
      ]
     },
     "execution_count": 31,
     "metadata": {},
     "output_type": "execute_result"
    }
   ],
   "source": [
    "np.random.randint(10,20,size=(3,2))"
   ]
  },
  {
   "cell_type": "code",
   "execution_count": 32,
   "id": "428328b2",
   "metadata": {},
   "outputs": [
    {
     "data": {
      "text/plain": [
       "array([[0.7598143 , 0.13352169, 0.32640108, 0.14150331, 0.18534283]])"
      ]
     },
     "execution_count": 32,
     "metadata": {},
     "output_type": "execute_result"
    }
   ],
   "source": [
    "#Create a 10x1 array of uniformly distributed\n",
    "# random values between 0 and 1\n",
    "np.random.random((1, 5))"
   ]
  },
  {
   "cell_type": "code",
   "execution_count": 33,
   "id": "23968d79",
   "metadata": {},
   "outputs": [
    {
     "data": {
      "text/plain": [
       "array([['NK', 'VS', 'VS'],\n",
       "       ['PS', 'VS', 'NK'],\n",
       "       ['NK', 'PS', 'NK'],\n",
       "       ['PS', 'NK', 'PS'],\n",
       "       ['VS', 'VS', 'NK'],\n",
       "       ['NK', 'NK', 'PS'],\n",
       "       ['VS', 'VS', 'NK'],\n",
       "       ['VS', 'PS', 'NK'],\n",
       "       ['NK', 'VS', 'PS'],\n",
       "       ['NK', 'NK', 'VS']], dtype='<U2')"
      ]
     },
     "execution_count": 33,
     "metadata": {},
     "output_type": "execute_result"
    }
   ],
   "source": [
    "# choice(a, size=None, replace=True, p=None) # similar to sample command in R\n",
    "xx=np.array([\"PS\",\"NK\",\"VS\"])\n",
    "np.random.choice(xx, (10,3), 1)"
   ]
  },
  {
   "cell_type": "code",
   "execution_count": 35,
   "id": "6f7a2349",
   "metadata": {},
   "outputs": [
    {
     "data": {
      "text/plain": [
       "array(['PS', 'PS', 'PS', 'PS', 'PS', 'PS', 'PS', 'PS', 'PS', 'PS'],\n",
       "      dtype='<U2')"
      ]
     },
     "execution_count": 35,
     "metadata": {},
     "output_type": "execute_result"
    }
   ],
   "source": [
    "xx=np.array([\"PS\",\"NK\",\"VS\"])\n",
    "np.random.choice(xx, 10, 1, p=(0.9,0.05,0.05))\n"
   ]
  },
  {
   "cell_type": "code",
   "execution_count": 36,
   "id": "0ced4b0a",
   "metadata": {},
   "outputs": [],
   "source": [
    "#help in python\n",
    "np.random.choice?"
   ]
  },
  {
   "cell_type": "markdown",
   "id": "2a71ad7b",
   "metadata": {},
   "source": [
    "**Permutations**"
   ]
  },
  {
   "cell_type": "code",
   "execution_count": 37,
   "id": "177ba92a",
   "metadata": {},
   "outputs": [
    {
     "name": "stdout",
     "output_type": "stream",
     "text": [
      "['PS' 'NK' 'VS']\n",
      "['VS' 'NK' 'PS']\n",
      "['PS' 'NK' 'VS']\n"
     ]
    }
   ],
   "source": [
    "xx=np.array([\"PS\",\"NK\",\"VS\"])\n",
    "print(xx)\n",
    "print(np.random.permutation(xx))\n",
    "print(xx)"
   ]
  },
  {
   "cell_type": "code",
   "execution_count": 38,
   "id": "ee5945cc",
   "metadata": {},
   "outputs": [
    {
     "name": "stdout",
     "output_type": "stream",
     "text": [
      "None\n",
      "['VS' 'NK' 'PS']\n"
     ]
    }
   ],
   "source": [
    "xx=np.array([\"PS\",\"VS\",\"NK\"])\n",
    "print(np.random.shuffle(xx))\n",
    "print(xx)"
   ]
  },
  {
   "cell_type": "markdown",
   "id": "00fe9113",
   "metadata": {},
   "source": [
    "**Random Sample From Various Distributions** "
   ]
  },
  {
   "cell_type": "code",
   "execution_count": 39,
   "id": "78aa9e7e",
   "metadata": {},
   "outputs": [
    {
     "data": {
      "text/plain": [
       "array([8, 5, 8, 8, 8, 7, 8, 3, 5, 7])"
      ]
     },
     "execution_count": 39,
     "metadata": {},
     "output_type": "execute_result"
    }
   ],
   "source": [
    "# binomial(n, p[, size])\n",
    "n, p = 10, .6\n",
    "s1= np.random.binomial(n, p, 10)\n",
    "s1"
   ]
  },
  {
   "cell_type": "code",
   "execution_count": 40,
   "id": "b27ef196",
   "metadata": {},
   "outputs": [
    {
     "data": {
      "text/plain": [
       "array([[6, 5, 4],\n",
       "       [7, 6, 6],\n",
       "       [5, 8, 7],\n",
       "       [4, 6, 8],\n",
       "       [4, 4, 6],\n",
       "       [8, 6, 7],\n",
       "       [8, 7, 6],\n",
       "       [6, 4, 5],\n",
       "       [5, 5, 5],\n",
       "       [7, 7, 6]])"
      ]
     },
     "execution_count": 40,
     "metadata": {},
     "output_type": "execute_result"
    }
   ],
   "source": [
    "n, p = 10, .6\n",
    "s1= np.random.binomial(n, p, (10,3))\n",
    "s1"
   ]
  },
  {
   "cell_type": "code",
   "execution_count": 41,
   "id": "0b92c28d",
   "metadata": {},
   "outputs": [
    {
     "data": {
      "text/plain": [
       "array([5.91438367, 6.2422705 , 2.7687907 , 1.91355299, 1.7624309 ,\n",
       "       1.80043627, 6.687626  , 5.94826999, 0.13749533, 3.29986255])"
      ]
     },
     "execution_count": 41,
     "metadata": {},
     "output_type": "execute_result"
    }
   ],
   "source": [
    "#np.random.chisquare(df[, size])\n",
    "np.random.chisquare(2,10)"
   ]
  },
  {
   "cell_type": "code",
   "execution_count": 42,
   "id": "f297c381",
   "metadata": {},
   "outputs": [
    {
     "data": {
      "text/plain": [
       "array([0.78726762, 2.1343991 , 3.52979622, 0.25799391, 0.09602135])"
      ]
     },
     "execution_count": 42,
     "metadata": {},
     "output_type": "execute_result"
    }
   ],
   "source": [
    "# np.random.exponential([scale, size])\n",
    "np.random.exponential(2,5)"
   ]
  },
  {
   "cell_type": "raw",
   "id": "f8c1cb3b",
   "metadata": {},
   "source": [
    "f(dfnum, dfden[, size])\n",
    "gamma(shape[, scale, size])\n",
    "geometric(p[, size])\n",
    "hypergeometric(ngood, nbad, nsample[, size])\n",
    "laplace([loc, scale, size])\n",
    "logistic([loc, scale, size])\n",
    "lognormal([mean, sigma, size])\n",
    "multinomial(n, pvals[, size])\n",
    "multivariate_normal(mean, cov[, size, ...)\n",
    "negative_binomial(n, p[, size])\n",
    "normal([loc, scale, size])\n",
    "pareto(a[, size])\n",
    "rayleigh([scale, size])\n",
    "standard_cauchy([size])\n",
    "standard_exponential([size])\n",
    "standard_gamma([size])\n",
    "standard_normal([size])\n",
    "standard_t(df[, size])"
   ]
  },
  {
   "cell_type": "code",
   "execution_count": 44,
   "id": "5ae0a74c",
   "metadata": {},
   "outputs": [
    {
     "name": "stdout",
     "output_type": "stream",
     "text": [
      "-0.3702686911220611\n",
      "[ 2.74173224  0.66189037 -0.66832703  0.99101399 -0.77699804  0.13218581\n",
      "  0.77388156 -0.4663121   0.02106232  0.61852571] \n",
      "\n"
     ]
    }
   ],
   "source": [
    "print(np.random.normal())\n",
    "print(np.random.normal(0, 1, 10),'\\n')"
   ]
  },
  {
   "cell_type": "code",
   "execution_count": 45,
   "id": "45e9f685",
   "metadata": {},
   "outputs": [
    {
     "data": {
      "text/plain": [
       "array([[11.2873134 ,  9.85296226, 10.657735  ,  9.65197779, 12.19714512],\n",
       "       [ 8.45918759,  9.28379557, 11.06756797,  9.6824135 , 10.61024468]])"
      ]
     },
     "execution_count": 45,
     "metadata": {},
     "output_type": "execute_result"
    }
   ],
   "source": [
    "np.random.normal(10,1,(2,5))"
   ]
  },
  {
   "cell_type": "code",
   "execution_count": 46,
   "id": "0de2b40a",
   "metadata": {},
   "outputs": [
    {
     "data": {
      "text/plain": [
       "dtype('<U2')"
      ]
     },
     "execution_count": 46,
     "metadata": {},
     "output_type": "execute_result"
    }
   ],
   "source": [
    "xx=np.array([\"SP\",\"VS\",\"NK\"])\n",
    "xx.dtype"
   ]
  },
  {
   "cell_type": "code",
   "execution_count": 47,
   "id": "27f9e058",
   "metadata": {},
   "outputs": [
    {
     "data": {
      "text/plain": [
       "array(['VS', 'SP', 'VS', 'VS', 'NK', 'SP', 'NK', 'VS', 'NK', 'NK'],\n",
       "      dtype='<U2')"
      ]
     },
     "execution_count": 47,
     "metadata": {},
     "output_type": "execute_result"
    }
   ],
   "source": [
    "from numpy.random import choice\n",
    "choice(xx, 10, 1)\n"
   ]
  },
  {
   "cell_type": "code",
   "execution_count": 48,
   "id": "51c6ae22",
   "metadata": {},
   "outputs": [
    {
     "data": {
      "text/plain": [
       "array(['VS', 'VS', 'VS', 'SP', 'NK', 'SP', 'NK', 'NK', 'SP', 'SP'],\n",
       "      dtype='<U2')"
      ]
     },
     "execution_count": 48,
     "metadata": {},
     "output_type": "execute_result"
    }
   ],
   "source": [
    "#importing in another way\n",
    "from numpy.random import choice as ch\n",
    "ch(xx, 10, 1)"
   ]
  },
  {
   "cell_type": "code",
   "execution_count": 49,
   "id": "04997a38",
   "metadata": {},
   "outputs": [
    {
     "data": {
      "text/plain": [
       "array(['SP', 'VS', 'SP', 'NK', 'NK', 'SP', 'NK', 'SP', 'NK', 'SP'],\n",
       "      dtype='<U2')"
      ]
     },
     "execution_count": 49,
     "metadata": {},
     "output_type": "execute_result"
    }
   ],
   "source": [
    "a=ch\n",
    "a(xx, 10, 1)"
   ]
  },
  {
   "cell_type": "code",
   "execution_count": 50,
   "id": "a5dc7b02",
   "metadata": {},
   "outputs": [
    {
     "name": "stdout",
     "output_type": "stream",
     "text": [
      "37 \n",
      "\n",
      "70 \n",
      "\n",
      "[[13]\n",
      " [51]\n",
      " [70]\n",
      " [ 8]\n",
      " [29]\n",
      " [84]\n",
      " [20]\n",
      " [ 8]\n",
      " [48]\n",
      " [92]] \n",
      "\n",
      "[[27 48]\n",
      " [24 38]\n",
      " [17 24]\n",
      " [35 48]\n",
      " [71 62]\n",
      " [48 30]\n",
      " [ 6 25]\n",
      " [57 28]\n",
      " [ 1 41]\n",
      " [67 50]] \n",
      "\n"
     ]
    }
   ],
   "source": [
    "# Create a 10x1 array of random integers in the interval [0, 100)\n",
    "print(np.random.randint(0, 100),'\\n')\n",
    "print(np.random.randint(100),'\\n')\n",
    "print(np.random.randint(0, 100, (10, 1)),'\\n')\n",
    "print(np.random.randint(100,size=(10,2)),'\\n')\n"
   ]
  },
  {
   "cell_type": "code",
   "execution_count": 51,
   "id": "6c48844a",
   "metadata": {},
   "outputs": [
    {
     "data": {
      "text/plain": [
       "array([[1., 0., 0.],\n",
       "       [0., 1., 0.],\n",
       "       [0., 0., 1.]])"
      ]
     },
     "execution_count": 51,
     "metadata": {},
     "output_type": "execute_result"
    }
   ],
   "source": [
    "#Create a 3x3 identity matrix\n",
    "np.eye(3)"
   ]
  },
  {
   "cell_type": "markdown",
   "id": "3b12d383",
   "metadata": {},
   "source": [
    "*****Numpy Standard Data Types*****"
   ]
  },
  {
   "cell_type": "markdown",
   "id": "ad96d5e2",
   "metadata": {},
   "source": [
    "*Numpy Array Attributes*"
   ]
  },
  {
   "cell_type": "code",
   "execution_count": 2,
   "id": "5cfdae17",
   "metadata": {},
   "outputs": [
    {
     "name": "stdout",
     "output_type": "stream",
     "text": [
      "[5 0 3 3 7 9 3 5 2 4]\n"
     ]
    }
   ],
   "source": [
    "import numpy as np\n",
    "np.random.seed(0) # seed for reproducibility\n",
    "x1 = np.random.randint(10, size=10) # One-dimensional array\n",
    "x2 = np.random.randint(10, size=(3, 8)) # Two-dimensional array\n",
    "x3 = np.random.randint(10, size=(2, 4, 7)) # Three-dimensional array\n",
    "print(x1)"
   ]
  },
  {
   "cell_type": "code",
   "execution_count": 3,
   "id": "bb9555db",
   "metadata": {},
   "outputs": [
    {
     "name": "stdout",
     "output_type": "stream",
     "text": [
      "[[7 6 8 8 1 6 7 7]\n",
      " [8 1 5 9 8 9 4 3]\n",
      " [0 3 5 0 2 3 8 1]]\n",
      "[[[3 3 3 7 0 1 9]\n",
      "  [9 0 4 7 3 2 7]\n",
      "  [2 0 0 4 5 5 6]\n",
      "  [8 4 1 4 9 8 1]]\n",
      "\n",
      " [[1 7 9 9 3 6 7]\n",
      "  [2 0 3 5 9 4 4]\n",
      "  [6 4 4 3 4 4 8]\n",
      "  [4 3 7 5 5 0 1]]]\n"
     ]
    }
   ],
   "source": [
    "print(x2)\n",
    "print(x3)"
   ]
  },
  {
   "cell_type": "code",
   "execution_count": 4,
   "id": "5a00f4b6",
   "metadata": {},
   "outputs": [
    {
     "name": "stdout",
     "output_type": "stream",
     "text": [
      "x1 ndim:  1\n",
      "x2 ndim:  2\n",
      "x2 shape: (3, 8)\n",
      "x3 size:  56\n",
      "dtype: int32\n",
      "itemsize: 4 bytes\n",
      "nbytes: 40 bytes\n"
     ]
    }
   ],
   "source": [
    "print(\"x1 ndim: \", x1.ndim)\n",
    "print(\"x2 ndim: \", x2.ndim)\n",
    "print(\"x2 shape:\", x2.shape) #shape of array 3*8\n",
    "print(\"x3 size: \", x3.size) #total no. of elements\n",
    "print(\"dtype:\", x3.dtype) #for data type\n",
    "print(\"itemsize:\", x1.itemsize, \"bytes\") #meomery size in byte of each element in array\n",
    "print(\"nbytes:\", x1.nbytes, \"bytes\") # total meomery size of array"
   ]
  },
  {
   "cell_type": "markdown",
   "id": "47242e6f",
   "metadata": {},
   "source": [
    "Array Indexing\n"
   ]
  },
  {
   "cell_type": "code",
   "execution_count": 6,
   "id": "7e41d5f5",
   "metadata": {},
   "outputs": [
    {
     "name": "stdout",
     "output_type": "stream",
     "text": [
      "[5 0 3 3 7 9 3 5 2 4]\n",
      "5\n",
      "length of x1: 10\n",
      "4\n"
     ]
    }
   ],
   "source": [
    "print(x1)\n",
    "print(x1[0])\n",
    "print(\"length of x1:\",len(x1))\n",
    "print(x1[9])"
   ]
  },
  {
   "cell_type": "code",
   "execution_count": 7,
   "id": "b93c403d",
   "metadata": {},
   "outputs": [
    {
     "name": "stdout",
     "output_type": "stream",
     "text": [
      "4\n"
     ]
    },
    {
     "data": {
      "text/plain": [
       "4"
      ]
     },
     "execution_count": 7,
     "metadata": {},
     "output_type": "execute_result"
    }
   ],
   "source": [
    "print(x1[9])\n",
    "x1[-1] #To index from the end of the array, you can use negative indices"
   ]
  },
  {
   "cell_type": "code",
   "execution_count": 8,
   "id": "312dc34f",
   "metadata": {},
   "outputs": [
    {
     "name": "stdout",
     "output_type": "stream",
     "text": [
      "[[7 6 8 8 1 6 7 7]\n",
      " [8 1 5 9 8 9 4 3]\n",
      " [0 3 5 0 2 3 8 1]]\n",
      "7\n",
      "[[12  6  8  8  1  6  7  7]\n",
      " [ 8  1  5  9  8  9  4  3]\n",
      " [ 0  3  5  0  2  3  8  1]]\n"
     ]
    }
   ],
   "source": [
    "#In a multidimensional array, you access items using a comma-separated tuple of indices:\n",
    "print(x2)\n",
    "print(x2[0, 0])\n",
    "# modification in array\n",
    "x2[0, 0] = 12\n",
    "print(x2)\n"
   ]
  },
  {
   "cell_type": "code",
   "execution_count": 9,
   "id": "4c610a03",
   "metadata": {},
   "outputs": [
    {
     "data": {
      "text/plain": [
       "array([[3, 6, 8, 8, 1, 6, 7, 7],\n",
       "       [8, 1, 5, 9, 8, 9, 4, 3],\n",
       "       [0, 3, 5, 0, 2, 3, 8, 1]])"
      ]
     },
     "execution_count": 9,
     "metadata": {},
     "output_type": "execute_result"
    }
   ],
   "source": [
    "x2[0,0] = 3.14159 # this will be truncated!\n",
    "x2"
   ]
  },
  {
   "cell_type": "markdown",
   "id": "56b288be",
   "metadata": {},
   "source": [
    "Array Slicing: Accessing Subarrays"
   ]
  },
  {
   "cell_type": "code",
   "execution_count": 10,
   "id": "352fb29e",
   "metadata": {},
   "outputs": [
    {
     "data": {
      "text/plain": [
       "array([0, 1, 2, 3, 4, 5, 6, 7, 8, 9])"
      ]
     },
     "execution_count": 10,
     "metadata": {},
     "output_type": "execute_result"
    }
   ],
   "source": [
    "x = np.arange(10)\n",
    "x"
   ]
  },
  {
   "cell_type": "code",
   "execution_count": 11,
   "id": "8c44dcfe",
   "metadata": {},
   "outputs": [
    {
     "name": "stdout",
     "output_type": "stream",
     "text": [
      "[0 1 2 3 4]\n",
      "[5 6 7 8 9]\n",
      "[4 5 6]\n",
      "[0 2 4 6 8]\n",
      "[1 3 5 7 9]\n",
      "[0 2 4 6 8]\n"
     ]
    }
   ],
   "source": [
    "print(x[:5]) # first five elements\n",
    "print(x[5:]) # elements after index 5\n",
    "print(x[4:7]) # middle subarray\n",
    "print(x[::2]) # every other element\n",
    "print(x[1::2]) # every other element, starting at index 1\n",
    "print(x[0::2]) # even numbers"
   ]
  },
  {
   "cell_type": "code",
   "execution_count": 12,
   "id": "6fdf4b25",
   "metadata": {},
   "outputs": [
    {
     "name": "stdout",
     "output_type": "stream",
     "text": [
      "[9 8 7 6 5 4 3 2 1 0]\n",
      "[5 3 1]\n",
      "[5 7 9]\n"
     ]
    }
   ],
   "source": [
    "print(x[::-1]) # all elements, reversed\n",
    "print(x[5::-2] ) # reversed every other from index 5\n",
    "print(x[5::2] )\n"
   ]
  },
  {
   "cell_type": "markdown",
   "id": "f1b0b397",
   "metadata": {},
   "source": [
    "**Multidimensional Subarrays**"
   ]
  },
  {
   "cell_type": "code",
   "execution_count": 13,
   "id": "33fd6b3b",
   "metadata": {},
   "outputs": [
    {
     "name": "stdout",
     "output_type": "stream",
     "text": [
      "[[3 6 8 8 1 6 7 7]\n",
      " [8 1 5 9 8 9 4 3]\n",
      " [0 3 5 0 2 3 8 1]]\n"
     ]
    }
   ],
   "source": [
    "print(x2)\n"
   ]
  },
  {
   "cell_type": "code",
   "execution_count": 14,
   "id": "2a1b0dbe",
   "metadata": {},
   "outputs": [
    {
     "name": "stdout",
     "output_type": "stream",
     "text": [
      "[[3 6 8]\n",
      " [8 1 5]] \n",
      "\n",
      "[[3 8 1 7]\n",
      " [8 5 8 4]\n",
      " [0 5 2 8]]\n"
     ]
    }
   ],
   "source": [
    "print(x2[:2, :3] ,'\\n') # two rows, three columns\n",
    "print(x2[:3, ::2]) # all rows, every other column"
   ]
  },
  {
   "cell_type": "code",
   "execution_count": 15,
   "id": "ef756f08",
   "metadata": {},
   "outputs": [
    {
     "data": {
      "text/plain": [
       "array([[1, 8, 3, 2, 0, 5, 3, 0],\n",
       "       [3, 4, 9, 8, 9, 5, 1, 8],\n",
       "       [7, 7, 6, 1, 8, 8, 6, 3]])"
      ]
     },
     "execution_count": 15,
     "metadata": {},
     "output_type": "execute_result"
    }
   ],
   "source": [
    "x2[::-1, ::-1] #subarray dimensions can even be reversed together"
   ]
  },
  {
   "cell_type": "code",
   "execution_count": 16,
   "id": "2f3f93b2",
   "metadata": {},
   "outputs": [
    {
     "name": "stdout",
     "output_type": "stream",
     "text": [
      "[[3 6 8 8 1 6 7 7]\n",
      " [8 1 5 9 8 9 4 3]\n",
      " [0 3 5 0 2 3 8 1]]\n",
      "[3 8 0]\n",
      "[3 6 8 8 1 6 7 7]\n",
      "[3 6 8 8 1 6 7 7]\n"
     ]
    }
   ],
   "source": [
    "print(x2)\n",
    "print(x2[:, 0]) # first column of x2\n",
    "print(x2[0, :]) # first row of x2\n",
    "print(x2[0]) # equivalent to x2[0, :]"
   ]
  },
  {
   "cell_type": "code",
   "execution_count": 17,
   "id": "5b4d913e",
   "metadata": {},
   "outputs": [
    {
     "name": "stdout",
     "output_type": "stream",
     "text": [
      "[[5 9 3 0 5 0 1 2]\n",
      " [4 2 0 3 2 0 7 5]\n",
      " [9 0 2 7 2 9 2 3]]\n",
      "[[5 9]\n",
      " [4 2]]\n",
      "[[99  9]\n",
      " [ 4  2]]\n"
     ]
    }
   ],
   "source": [
    "x2 = np.random.randint(10, size=(3, 8)) # Two-dimensional array\n",
    "print(x2)\n",
    "x2_sub = x2[:2, :2]\n",
    "print(x2_sub)\n",
    "x2_sub[0, 0] = 99\n",
    "print(x2_sub)\n"
   ]
  },
  {
   "cell_type": "code",
   "execution_count": 19,
   "id": "16db9c27",
   "metadata": {},
   "outputs": [
    {
     "name": "stdout",
     "output_type": "stream",
     "text": [
      "[[99  9  3  0  5  0  1  2]\n",
      " [ 4  2  0  3  2  0  7  5]\n",
      " [ 9  0  2  7  2  9  2  3]]\n"
     ]
    }
   ],
   "source": [
    "print(x2)"
   ]
  },
  {
   "cell_type": "markdown",
   "id": "f74e467d",
   "metadata": {},
   "source": [
    "**Reshaping Arrays**"
   ]
  },
  {
   "cell_type": "code",
   "execution_count": 20,
   "id": "322ff8b2",
   "metadata": {},
   "outputs": [
    {
     "name": "stdout",
     "output_type": "stream",
     "text": [
      "[1 2 3 4 5 6 7 8 9]\n",
      "[[1 2 3]\n",
      " [4 5 6]\n",
      " [7 8 9]]\n"
     ]
    }
   ],
   "source": [
    "a=np.arange(1, 10)\n",
    "print(a)\n",
    "b=a.reshape((3, 3))\n",
    "print(b)"
   ]
  },
  {
   "cell_type": "code",
   "execution_count": 21,
   "id": "9287a7e1",
   "metadata": {},
   "outputs": [
    {
     "name": "stdout",
     "output_type": "stream",
     "text": [
      "[[1 2 3]]\n",
      "[1 2 3]\n",
      "(3,)\n"
     ]
    }
   ],
   "source": [
    "x = np.array([1, 2, 3])\n",
    "# row vector via reshape\n",
    "print(x.reshape((1, 3)))\n",
    "print(x)\n",
    "print(x.shape)"
   ]
  },
  {
   "cell_type": "code",
   "execution_count": 22,
   "id": "b46f1905",
   "metadata": {},
   "outputs": [
    {
     "name": "stdout",
     "output_type": "stream",
     "text": [
      "[[1]\n",
      " [2]\n",
      " [3]]\n"
     ]
    },
    {
     "data": {
      "text/plain": [
       "(3,)"
      ]
     },
     "execution_count": 22,
     "metadata": {},
     "output_type": "execute_result"
    }
   ],
   "source": [
    "# column vector via newaxis\n",
    "print(x[:, np.newaxis])\n",
    "x.shape"
   ]
  },
  {
   "cell_type": "markdown",
   "id": "f84c2a9e",
   "metadata": {},
   "source": [
    "**Array Concatenation and Splitting**"
   ]
  },
  {
   "cell_type": "code",
   "execution_count": 31,
   "id": "f7189428",
   "metadata": {},
   "outputs": [
    {
     "data": {
      "text/plain": [
       "array([1, 2, 3, 3, 2, 1])"
      ]
     },
     "execution_count": 31,
     "metadata": {},
     "output_type": "execute_result"
    }
   ],
   "source": [
    "x = np.array([1, 2, 3])\n",
    "y = np.array([3, 2, 1])\n",
    "np.concatenate([x, y])\n"
   ]
  },
  {
   "cell_type": "code",
   "execution_count": 32,
   "id": "66f58254",
   "metadata": {},
   "outputs": [
    {
     "name": "stdout",
     "output_type": "stream",
     "text": [
      "[[1 2 3]\n",
      " [4 5 6]]\n"
     ]
    },
    {
     "data": {
      "text/plain": [
       "array([[1, 2, 3],\n",
       "       [4, 5, 6],\n",
       "       [1, 2, 3],\n",
       "       [4, 5, 6]])"
      ]
     },
     "execution_count": 32,
     "metadata": {},
     "output_type": "execute_result"
    }
   ],
   "source": [
    "grid = np.array([[1, 2, 3],\n",
    "[4, 5, 6]])\n",
    "print(grid)\n",
    "#concatenate along the first axis\n",
    "np.concatenate([grid, grid])\n"
   ]
  },
  {
   "cell_type": "code",
   "execution_count": 33,
   "id": "5323a8af",
   "metadata": {},
   "outputs": [
    {
     "data": {
      "text/plain": [
       "array([[1, 2, 3],\n",
       "       [9, 8, 7],\n",
       "       [6, 5, 4]])"
      ]
     },
     "execution_count": 33,
     "metadata": {},
     "output_type": "execute_result"
    }
   ],
   "source": [
    "x = np.array([1, 2, 3])\n",
    "grid = np.array([[9, 8, 7],\n",
    "[6, 5, 4]])\n",
    "# vertically stack the arrays\n",
    "np.vstack([x, grid])"
   ]
  },
  {
   "cell_type": "code",
   "execution_count": 34,
   "id": "4108ab06",
   "metadata": {},
   "outputs": [
    {
     "data": {
      "text/plain": [
       "array([[ 9,  8,  7, 99],\n",
       "       [ 6,  5,  4, 99]])"
      ]
     },
     "execution_count": 34,
     "metadata": {},
     "output_type": "execute_result"
    }
   ],
   "source": [
    "# horizontally stack the arrays\n",
    "y = np.array([[99],\n",
    "[99]])\n",
    "np.hstack([grid, y])"
   ]
  },
  {
   "cell_type": "code",
   "execution_count": 35,
   "id": "7e65c7e7",
   "metadata": {},
   "outputs": [
    {
     "name": "stdout",
     "output_type": "stream",
     "text": [
      "[1 2 3] [99 99] [3 2 1]\n",
      "[[ 0  1  2  3]\n",
      " [ 4  5  6  7]\n",
      " [ 8  9 10 11]\n",
      " [12 13 14 15]]\n",
      "upper\n",
      " [[0 1 2 3]\n",
      " [4 5 6 7]]\n",
      "lower\n",
      " [[ 8  9 10 11]\n",
      " [12 13 14 15]]\n",
      "left\n",
      " [[ 0  1]\n",
      " [ 4  5]\n",
      " [ 8  9]\n",
      " [12 13]]\n",
      "right\n",
      " [[ 2  3]\n",
      " [ 6  7]\n",
      " [10 11]\n",
      " [14 15]]\n"
     ]
    }
   ],
   "source": [
    "x = [1, 2, 3, 99, 99, 3, 2, 1]\n",
    "x1, x2, x3 = np.split(x, [3, 5])\n",
    "print(x1, x2, x3)\n",
    "grid = np.arange(16).reshape((4, 4))\n",
    "print(grid)\n",
    "upper, lower = np.vsplit(grid, [2])\n",
    "print(\"upper\\n\",upper)\n",
    "print(\"lower\\n\",lower)\n",
    "left, right = np.hsplit(grid, [2])\n",
    "print(\"left\\n\",left)\n",
    "print(\"right\\n\",right)"
   ]
  },
  {
   "cell_type": "markdown",
   "id": "21d55026",
   "metadata": {},
   "source": [
    "**Computation on NumPy Arrays**"
   ]
  },
  {
   "cell_type": "code",
   "execution_count": 36,
   "id": "e8d8faf1",
   "metadata": {},
   "outputs": [
    {
     "name": "stdout",
     "output_type": "stream",
     "text": [
      "[0.16666667 1.         0.25       0.25       0.125     ]\n",
      "12.8 µs ± 4.94 µs per loop (mean ± std. dev. of 7 runs, 100000 loops each)\n"
     ]
    }
   ],
   "source": [
    "#The Slowness of Loops\n",
    "import numpy as np\n",
    "np.random.seed(0)\n",
    "def compute_reciprocals(values):\n",
    "    output = np.empty(len(values))\n",
    "    for i in range(len(values)):\n",
    "        output[i] = 1.0 / values[i]\n",
    "    return output\n",
    "values = np.random.randint(1, 10, size=5)\n",
    "print(compute_reciprocals(values))\n",
    "%timeit compute_reciprocals(values)\n"
   ]
  },
  {
   "cell_type": "code",
   "execution_count": 37,
   "id": "985db708",
   "metadata": {},
   "outputs": [
    {
     "name": "stdout",
     "output_type": "stream",
     "text": [
      "[0.16666667 1.         0.25       0.25       0.125     ]\n",
      "1.46 µs ± 456 ns per loop (mean ± std. dev. of 7 runs, 1000000 loops each)\n"
     ]
    }
   ],
   "source": [
    "print(1.0 / values)\n",
    "%timeit (1.0 / values)\n"
   ]
  },
  {
   "cell_type": "markdown",
   "id": "1c00fcc4",
   "metadata": {},
   "source": [
    "**Exploring NumPy’s UFuncs**"
   ]
  },
  {
   "cell_type": "code",
   "execution_count": 38,
   "id": "cf68944e",
   "metadata": {},
   "outputs": [
    {
     "name": "stdout",
     "output_type": "stream",
     "text": [
      "[0 1 2 3]\n",
      "x + 5 = [5 6 7 8]\n",
      "x // 2 = [0 0 1 1]\n"
     ]
    }
   ],
   "source": [
    "x = np.arange(4)\n",
    "print(x)\n",
    "print(\"x + 5 =\", x + 5)\n",
    "print(\"x // 2 =\", x // 2) # floor division"
   ]
  },
  {
   "cell_type": "code",
   "execution_count": null,
   "id": "c00c5a14",
   "metadata": {},
   "outputs": [],
   "source": [
    "x = np.arange(4)\n",
    "print(x)\n",
    "print(np.add(x, 2))\n",
    "x = np.array([-2, -1, 0, 1, 2])\n",
    "n.absolute"
   ]
  },
  {
   "cell_type": "code",
   "execution_count": 40,
   "id": "fc07d999",
   "metadata": {},
   "outputs": [
    {
     "name": "stdout",
     "output_type": "stream",
     "text": [
      "{7: 4, 9: array([[3, 6, 8, 8, 1, 6, 7, 7],\n",
      "       [8, 1, 5, 9, 8, 9, 4, 3],\n",
      "       [0, 3, 5, 0, 2, 3, 8, 1]]), 10: array([0, 1, 2, 3, 4, 5, 6, 7, 8, 9]), 15: array([[1, 8, 3, 2, 0, 5, 3, 0],\n",
      "       [3, 4, 9, 8, 9, 5, 1, 8],\n",
      "       [7, 7, 6, 1, 8, 8, 6, 3]]), 22: (3,), 23: array([1, 2, 3, 3, 2, 1]), 24: array([[1, 2, 3],\n",
      "       [4, 5, 6],\n",
      "       [1, 2, 3],\n",
      "       [4, 5, 6]]), 25: array([[1, 2, 3],\n",
      "       [9, 8, 7],\n",
      "       [6, 5, 4]]), 26: array([[ 9,  8,  7, 99],\n",
      "       [ 6,  5,  4, 99]]), 31: array([1, 2, 3, 3, 2, 1]), 32: array([[1, 2, 3],\n",
      "       [4, 5, 6],\n",
      "       [1, 2, 3],\n",
      "       [4, 5, 6]]), 33: array([[1, 2, 3],\n",
      "       [9, 8, 7],\n",
      "       [6, 5, 4]]), 34: array([[ 9,  8,  7, 99],\n",
      "       [ 6,  5,  4, 99]]), 39: array([2, 1, 0, 1, 2])}\n"
     ]
    }
   ],
   "source": [
    "print(Out)"
   ]
  },
  {
   "cell_type": "code",
   "execution_count": 41,
   "id": "a9e0a2c5",
   "metadata": {},
   "outputs": [
    {
     "name": "stdout",
     "output_type": "stream",
     "text": [
      "x = [1, 2, 3]\n",
      "e^x = [ 2.71828183  7.3890561  20.08553692]\n",
      "2^x = [2. 4. 8.]\n",
      "3^x = [ 3  9 27]\n",
      "3^x = [ 1  8 27]\n",
      "ln(x) = [0.         0.69314718 1.09861229]\n",
      "log2(x) = [0.        1.        1.5849625]\n",
      "log10(x) = [0.         0.30103    0.47712125]\n"
     ]
    }
   ],
   "source": [
    "#Exponents and logarithms\n",
    "x = [1, 2, 3]\n",
    "print(\"x =\", x)\n",
    "print(\"e^x =\", np.exp(x))\n",
    "print(\"2^x =\", np.exp2(x))\n",
    "print(\"3^x =\", np.power(3, x))\n",
    "print(\"3^x =\", np.power(x, 3))\n",
    "print(\"ln(x) =\", np.log(x))\n",
    "print(\"log2(x) =\", np.log2(x))\n",
    "print(\"log10(x) =\", np.log10(x))\n"
   ]
  },
  {
   "cell_type": "markdown",
   "id": "f0bc39db",
   "metadata": {},
   "source": [
    "**Aggregate functions**"
   ]
  },
  {
   "cell_type": "code",
   "execution_count": 42,
   "id": "d1e47c12",
   "metadata": {},
   "outputs": [
    {
     "name": "stdout",
     "output_type": "stream",
     "text": [
      "[1 2 3 4 5]\n",
      "15\n",
      "15\n",
      "120\n",
      "[ 1  3  6 10 15]\n",
      "[  1   2   6  24 120]\n"
     ]
    }
   ],
   "source": [
    "x = np.arange(1, 6)\n",
    "print(x)\n",
    "print(np.add.reduce(x))\n",
    "print(np.sum(x))\n",
    "print(np.multiply.reduce(x))\n",
    "print(np.cumsum(x)) # for cumsum\n",
    "print(np.cumprod(x)) #for cumulative product"
   ]
  },
  {
   "cell_type": "code",
   "execution_count": 43,
   "id": "45a4cd17",
   "metadata": {},
   "outputs": [
    {
     "name": "stdout",
     "output_type": "stream",
     "text": [
      "[1 2 3 4 5]\n",
      "[[ 1  2  3  4  5]\n",
      " [ 2  4  6  8 10]\n",
      " [ 3  6  9 12 15]\n",
      " [ 4  8 12 16 20]\n",
      " [ 5 10 15 20 25]]\n",
      "[[ 2  3  4  5  6]\n",
      " [ 3  4  5  6  7]\n",
      " [ 4  5  6  7  8]\n",
      " [ 5  6  7  8  9]\n",
      " [ 6  7  8  9 10]]\n"
     ]
    }
   ],
   "source": [
    "#Outer products\n",
    "x = np.arange(1, 6)\n",
    "print(x)\n",
    "print(np.multiply.outer(x, x))\n",
    "print(np.add.outer(x, x))"
   ]
  }
 ],
 "metadata": {
  "kernelspec": {
   "display_name": "Python 3 (ipykernel)",
   "language": "python",
   "name": "python3"
  },
  "language_info": {
   "codemirror_mode": {
    "name": "ipython",
    "version": 3
   },
   "file_extension": ".py",
   "mimetype": "text/x-python",
   "name": "python",
   "nbconvert_exporter": "python",
   "pygments_lexer": "ipython3",
   "version": "3.9.13"
  }
 },
 "nbformat": 4,
 "nbformat_minor": 5
}
